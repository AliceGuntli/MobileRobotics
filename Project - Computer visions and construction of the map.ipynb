{
 "cells": [
  {
   "cell_type": "markdown",
   "id": "f2f29e64",
   "metadata": {},
   "source": [
    "# Computer vision and construction of the map"
   ]
  },
  {
   "cell_type": "markdown",
   "id": "58ce4ace",
   "metadata": {},
   "source": [
    "Some importation useful for image processing"
   ]
  },
  {
   "cell_type": "code",
   "execution_count": 1,
   "id": "10fcbc2b",
   "metadata": {
    "ExecuteTime": {
     "end_time": "2021-11-22T16:24:22.497452Z",
     "start_time": "2021-11-22T16:24:21.252467Z"
    }
   },
   "outputs": [],
   "source": [
    "import cv2\n",
    "import time\n",
    "\n",
    "import numpy as np\n",
    "\n",
    "%matplotlib notebook \n",
    "import matplotlib.pyplot as plt\n",
    "%matplotlib notebook\n",
    "\n",
    "from bokeh.plotting import figure\n",
    "from bokeh.io import output_notebook, show, push_notebook\n",
    "from tqdm import tqdm\n",
    "\n",
    "import IPython.display as Disp\n",
    "from ipywidgets import widgets\n"
   ]
  },
  {
   "cell_type": "markdown",
   "id": "b58bb214",
   "metadata": {},
   "source": [
    "Loading and display the image that will be used"
   ]
  },
  {
   "cell_type": "code",
   "execution_count": 2,
   "id": "5c5a5922",
   "metadata": {
    "ExecuteTime": {
     "end_time": "2021-11-22T16:25:31.927571Z",
     "start_time": "2021-11-22T16:25:31.918547Z"
    }
   },
   "outputs": [
    {
     "name": "stdout",
     "output_type": "stream",
     "text": [
      "Open Error\n"
     ]
    }
   ],
   "source": [
    "img = cv2.imread('images/corner_detection_with_thymio.jpg', cv2.IMREAD_COLOR)\n",
    "\n",
    "# If the image path is wrong, the resulting img will be none\n",
    "if img is None:\n",
    "    print('Open Error')\n",
    "else:\n",
    "    print('Image Loaded')\n",
    "    plt.imshow(cv2.cvtColor(img, cv2.COLOR_BGR2RGB))"
   ]
  },
  {
   "cell_type": "code",
   "execution_count": null,
   "id": "82f7f19d",
   "metadata": {},
   "outputs": [],
   "source": []
  }
 ],
 "metadata": {
  "hide_input": false,
  "kernelspec": {
   "display_name": "Python 3 (ipykernel)",
   "language": "python",
   "name": "python3"
  },
  "language_info": {
   "codemirror_mode": {
    "name": "ipython",
    "version": 3
   },
   "file_extension": ".py",
   "mimetype": "text/x-python",
   "name": "python",
   "nbconvert_exporter": "python",
   "pygments_lexer": "ipython3",
   "version": "3.9.7"
  },
  "toc": {
   "base_numbering": 1,
   "nav_menu": {},
   "number_sections": true,
   "sideBar": true,
   "skip_h1_title": false,
   "title_cell": "Table of Contents",
   "title_sidebar": "Contents",
   "toc_cell": false,
   "toc_position": {},
   "toc_section_display": true,
   "toc_window_display": false
  }
 },
 "nbformat": 4,
 "nbformat_minor": 5
}
